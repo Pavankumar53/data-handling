{
  "nbformat": 4,
  "nbformat_minor": 0,
  "metadata": {
    "colab": {
      "provenance": []
    },
    "kernelspec": {
      "name": "python3",
      "display_name": "Python 3"
    },
    "language_info": {
      "name": "python"
    }
  },
  "cells": [
    {
      "cell_type": "code",
      "execution_count": 3,
      "metadata": {
        "colab": {
          "base_uri": "https://localhost:8080/"
        },
        "id": "MNvGh_Af2ASg",
        "outputId": "5027ef14-0da8-4f4f-d6a3-13474b59696b"
      },
      "outputs": [
        {
          "output_type": "stream",
          "name": "stdout",
          "text": [
            "Shape of 1D array: (5,)\n",
            "Size of 1D array: 5\n",
            "Dimension of 1D array: 1\n",
            "Length of 1D array: 5\n",
            "Shape of 2D array: (2, 3)\n",
            "Size of 2D array: 6\n",
            "Dimension of 2D array: 2\n",
            "Length of 2D array: 2\n",
            "Shape of 3D array: (2, 2, 3)\n",
            "Size of 3D array: 12\n",
            "Dimension of 3D array: 3\n",
            "Length of 3D array: 2\n"
          ]
        }
      ],
      "source": [
        "import numpy as np\n",
        "arr1d = np.array([1, 2, 3, 4, 5])\n",
        "print(\"Shape of 1D array:\", arr1d.shape)\n",
        "print(\"Size of 1D array:\", arr1d.size)\n",
        "print(\"Dimension of 1D array:\", arr1d.ndim)\n",
        "print(\"Length of 1D array:\", len(arr1d))\n",
        "arr2d = np.array([[1, 2, 3], [4, 5, 6]])\n",
        "print(\"Shape of 2D array:\", arr2d.shape)\n",
        "print(\"Size of 2D array:\", arr2d.size)\n",
        "print(\"Dimension of 2D array:\", arr2d.ndim)\n",
        "print(\"Length of 2D array:\", len(arr2d))\n",
        "arr3d = np.array([[[1, 2, 3], [4, 5, 6]], [[7, 8, 9], [10, 11, 12]]])\n",
        "print(\"Shape of 3D array:\", arr3d.shape)\n",
        "print(\"Size of 3D array:\", arr3d.size)\n",
        "print(\"Dimension of 3D array:\", arr3d.ndim)\n",
        "print(\"Length of 3D array:\", len(arr3d))"
      ]
    },
    {
      "cell_type": "code",
      "source": [
        "\n",
        "\n",
        "# arrange\n",
        "print(np.arange(10))\n",
        "\n",
        "# random.randint\n",
        "print(np.random.randint(0, 10))\n",
        "\n",
        "# random.rand\n",
        "print(np.random.rand(3))\n",
        "\n",
        "# linspace\n",
        "print(np.linspace(0, 10, 5))\n",
        "\n",
        "# ones\n",
        "print(np.ones((3, 4)))\n",
        "\n",
        "\n",
        "# zeros\n",
        "print(np.zeros((3, 4)))\n",
        "\n",
        "\n",
        "\n",
        "# diag\n",
        "print(np.diag([1, 2, 3]))\n",
        "\n",
        "\n",
        "\n",
        "# sum\n",
        "print(np.sum([1, 2, 3]))\n",
        "\n",
        "# min\n",
        "print(np.min([1, 2, 3]))\n",
        "\n",
        "# max\n",
        "print(np.max([1, 2, 3]))\n",
        "\n",
        "# mean\n",
        "print(np.mean([1, 2, 3]))"
      ],
      "metadata": {
        "colab": {
          "base_uri": "https://localhost:8080/"
        },
        "id": "_JokPewr5OLa",
        "outputId": "2f3332a8-7ccc-4df0-955a-c379c3d999d1"
      },
      "execution_count": 20,
      "outputs": [
        {
          "output_type": "stream",
          "name": "stdout",
          "text": [
            "[0 1 2 3 4 5 6 7 8 9]\n",
            "4\n",
            "[0.47590365 0.17819245 0.98885285]\n",
            "[ 0.   2.5  5.   7.5 10. ]\n",
            "[[1. 1. 1. 1.]\n",
            " [1. 1. 1. 1.]\n",
            " [1. 1. 1. 1.]]\n",
            "[[0. 0. 0. 0.]\n",
            " [0. 0. 0. 0.]\n",
            " [0. 0. 0. 0.]]\n",
            "[[1 0 0]\n",
            " [0 2 0]\n",
            " [0 0 3]]\n",
            "6\n",
            "1\n",
            "3\n",
            "2.0\n"
          ]
        }
      ]
    },
    {
      "cell_type": "code",
      "source": [
        "\n",
        "num_students = 45\n",
        "student_marks = np.random.randint(0, 101, size=num_students)\n",
        "\n",
        "passed_students = np.sum(student_marks >= 30)\n",
        "\n",
        "failed_students = student_marks[student_marks < 30]\n",
        "\n",
        "print(\"Number of students passed:\", passed_students)\n",
        "print(\"Failed students' marks:\", failed_students)\n"
      ],
      "metadata": {
        "colab": {
          "base_uri": "https://localhost:8080/"
        },
        "id": "k6SZ9Z537kag",
        "outputId": "4809da5a-581b-4d14-c85f-a599dd9bfad0"
      },
      "execution_count": 21,
      "outputs": [
        {
          "output_type": "stream",
          "name": "stdout",
          "text": [
            "Number of students passed: 29\n",
            "Failed students' marks: [24 21 22  3  5  1 13 14  1 27  0 12 29 26 29 22]\n"
          ]
        }
      ]
    },
    {
      "cell_type": "code",
      "source": [
        "\n",
        "rows = 10\n",
        "cols = 10\n",
        "\n",
        "random_array = np.random.randint(1, 51, size=(rows, cols))\n",
        "\n",
        "print(random_array)\n"
      ],
      "metadata": {
        "colab": {
          "base_uri": "https://localhost:8080/"
        },
        "id": "C7GaQcMG7sDn",
        "outputId": "e99e5ce6-5493-486f-816d-1b4ef4e43693"
      },
      "execution_count": 22,
      "outputs": [
        {
          "output_type": "stream",
          "name": "stdout",
          "text": [
            "[[37 38 42 11 44 49 37 13 12 12]\n",
            " [ 9 44  9 22 36  5 50 22  3 38]\n",
            " [31  1 50 46 22 26 15  1  1 17]\n",
            " [23 49  8 12 38 48 46 28 14 34]\n",
            " [46 24 16 21 34 26 31  8 32  6]\n",
            " [12 35 32 18  1 47 19 36 46 39]\n",
            " [49 39 10 11 14 27 42 20 41 21]\n",
            " [46 48 14 32 38 28 36 50 26 14]\n",
            " [46 28 28 30 35  2 32  2 15 42]\n",
            " [29 17 10 37 29 20 21  1 17 32]]\n"
          ]
        }
      ]
    },
    {
      "cell_type": "code",
      "source": [
        "\n",
        "\n",
        "odd_numbers = np.arange(-29, 11, 2)\n",
        "\n",
        "print(odd_numbers)\n"
      ],
      "metadata": {
        "colab": {
          "base_uri": "https://localhost:8080/"
        },
        "id": "M3F0vR7685Mo",
        "outputId": "2202a7ef-9213-48d4-f3bf-6377b004e5ed"
      },
      "execution_count": 23,
      "outputs": [
        {
          "output_type": "stream",
          "name": "stdout",
          "text": [
            "[-29 -27 -25 -23 -21 -19 -17 -15 -13 -11  -9  -7  -5  -3  -1   1   3   5\n",
            "   7   9]\n"
          ]
        }
      ]
    },
    {
      "cell_type": "code",
      "source": [
        "\n",
        "\n",
        "shape = (2, 3, 4)\n",
        "\n",
        "random_3d_array = np.random.randint(10, 41, size=shape)\n",
        "\n",
        "print(random_3d_array)\n"
      ],
      "metadata": {
        "colab": {
          "base_uri": "https://localhost:8080/"
        },
        "id": "v4Kiue4S9W8a",
        "outputId": "4e4814e4-68eb-4291-d055-31b1ad255f5d"
      },
      "execution_count": 24,
      "outputs": [
        {
          "output_type": "stream",
          "name": "stdout",
          "text": [
            "[[[30 14 14 24]\n",
            "  [13 23 37 13]\n",
            "  [35 33 28 13]]\n",
            "\n",
            " [[26 17 26 16]\n",
            "  [16 33 31 24]\n",
            "  [35 35 35 10]]]\n"
          ]
        }
      ]
    },
    {
      "cell_type": "code",
      "source": [
        "\n",
        "ones_array = np.ones((3, 2, 3))\n",
        "\n",
        "print(ones_array)\n"
      ],
      "metadata": {
        "colab": {
          "base_uri": "https://localhost:8080/"
        },
        "id": "U1RYkVYV-Gqx",
        "outputId": "103eb65e-33a6-4fe4-e498-9e1a554501e2"
      },
      "execution_count": 25,
      "outputs": [
        {
          "output_type": "stream",
          "name": "stdout",
          "text": [
            "[[[1. 1. 1.]\n",
            "  [1. 1. 1.]]\n",
            "\n",
            " [[1. 1. 1.]\n",
            "  [1. 1. 1.]]\n",
            "\n",
            " [[1. 1. 1.]\n",
            "  [1. 1. 1.]]]\n"
          ]
        }
      ]
    },
    {
      "cell_type": "code",
      "source": [
        "\n",
        "zeros_array = np.zeros((3, 2, 3))\n",
        "\n",
        "print(zeros_array)\n"
      ],
      "metadata": {
        "colab": {
          "base_uri": "https://localhost:8080/"
        },
        "id": "uSwnL7nv-JjP",
        "outputId": "6d8cd4f9-d5c6-47a8-d307-f57ca4da65a0"
      },
      "execution_count": 26,
      "outputs": [
        {
          "output_type": "stream",
          "name": "stdout",
          "text": [
            "[[[0. 0. 0.]\n",
            "  [0. 0. 0.]]\n",
            "\n",
            " [[0. 0. 0.]\n",
            "  [0. 0. 0.]]\n",
            "\n",
            " [[0. 0. 0.]\n",
            "  [0. 0. 0.]]]\n"
          ]
        }
      ]
    }
  ]
}