{
  "nbformat": 4,
  "nbformat_minor": 0,
  "metadata": {
    "colab": {
      "provenance": [],
      "mount_file_id": "1lg3y18vMWdU6OsXbyheXQFP7towjA-2L",
      "authorship_tag": "ABX9TyMsSzlyuO8NwxGPQ1USVQuk",
      "include_colab_link": true
    },
    "kernelspec": {
      "name": "python3",
      "display_name": "Python 3"
    },
    "language_info": {
      "name": "python"
    }
  },
  "cells": [
    {
      "cell_type": "markdown",
      "metadata": {
        "id": "view-in-github",
        "colab_type": "text"
      },
      "source": [
        "<a href=\"https://colab.research.google.com/github/Pavankumar53/data-handling/blob/main/Untitled6.ipynb\" target=\"_parent\"><img src=\"https://colab.research.google.com/assets/colab-badge.svg\" alt=\"Open In Colab\"/></a>"
      ]
    },
    {
      "cell_type": "code",
      "execution_count": null,
      "metadata": {
        "id": "sxSVt4IcbbM6"
      },
      "outputs": [],
      "source": [
        "df=pd.read_csv(\"/content/drive/MyDrive/BL-Flickr-Images-Book.csv\")"
      ]
    },
    {
      "cell_type": "code",
      "source": [
        "import pandas as pd\n",
        "import numpy as np\n",
        "from functools import reduce"
      ],
      "metadata": {
        "id": "xSteby5ecHTg"
      },
      "execution_count": null,
      "outputs": []
    },
    {
      "cell_type": "code",
      "source": [
        "df=pd.read_csv(\"/content/drive/MyDrive/BL-Flickr-Images-Book.csv\")"
      ],
      "metadata": {
        "id": "-T22LgnCcee-"
      },
      "execution_count": null,
      "outputs": []
    },
    {
      "cell_type": "code",
      "source": [
        "print(df.head())"
      ],
      "metadata": {
        "id": "6A3wR03ncgaU"
      },
      "execution_count": null,
      "outputs": []
    },
    {
      "cell_type": "code",
      "source": [
        "df.shape"
      ],
      "metadata": {
        "id": "S3QG3z0dcmTL"
      },
      "execution_count": null,
      "outputs": []
    },
    {
      "cell_type": "code",
      "source": [
        "for col in df:\n",
        "  print(col)"
      ],
      "metadata": {
        "id": "gSaCWD4Ycqvm"
      },
      "execution_count": null,
      "outputs": []
    },
    {
      "cell_type": "code",
      "source": [
        "to_drop=['Edition Statement','Contributors','Corporate Author','Corporate Contributors','Former owner','Engraver','Issuance type','Shelfmarks']\n",
        "df.drop(to_drop,inplace=True,axis=1)\n",
        "df.head()"
      ],
      "metadata": {
        "id": "62ApPLLwdIpN"
      },
      "execution_count": null,
      "outputs": []
    },
    {
      "cell_type": "code",
      "source": [
        "for col in df.columns:\n",
        "  print(col)"
      ],
      "metadata": {
        "id": "ZirT3knYgcY9"
      },
      "execution_count": null,
      "outputs": []
    },
    {
      "cell_type": "code",
      "source": [
        "df.set_index('Identifier',inplace=True)\n",
        "df.head()"
      ],
      "metadata": {
        "id": "BseAEJDugkyF"
      },
      "execution_count": null,
      "outputs": []
    },
    {
      "cell_type": "code",
      "source": [
        "df['Date of Publication'].head(25)"
      ],
      "metadata": {
        "id": "xg7Scajdg-t4"
      },
      "execution_count": null,
      "outputs": []
    },
    {
      "cell_type": "code",
      "source": [
        "un_cha=['[',\",\",\"-\"]\n",
        "def clean_dates(item):\n",
        "  dop=str(item.loc['Date of Publication'])\n",
        "  if dop=='nan'or dop[0]=='[':\n",
        "    return np.NaN\n",
        "  for character in un_cha:\n",
        "    if character in dop:\n",
        "      character_index=dop.find(character)\n",
        "      dop=dop[:character_index]\n",
        "    return dop\n",
        "df['Date of Publication']=df.apply(clean_dates,axis=1)"
      ],
      "metadata": {
        "id": "rH-2yXKUlYEi"
      },
      "execution_count": null,
      "outputs": []
    },
    {
      "cell_type": "code",
      "source": [
        "df['Date of Publication'].head(25)"
      ],
      "metadata": {
        "colab": {
          "base_uri": "https://localhost:8080/"
        },
        "id": "nRJS9RKllR5-",
        "outputId": "86d86305-a70e-4ec5-9c5e-c4f82619e7d6"
      },
      "execution_count": null,
      "outputs": [
        {
          "output_type": "execute_result",
          "data": {
            "text/plain": [
              "Identifier\n",
              "206           1879 \n",
              "216            1868\n",
              "218            1869\n",
              "472            1851\n",
              "480            1857\n",
              "481            1875\n",
              "519            1872\n",
              "667             NaN\n",
              "874            1676\n",
              "1143           1679\n",
              "1280           1802\n",
              "1808           1859\n",
              "1905           1888\n",
              "1929    1839, 38-54\n",
              "2836           1897\n",
              "2854           1865\n",
              "2956        1860-63\n",
              "2957           1873\n",
              "3017           1866\n",
              "3131           1899\n",
              "4598           1814\n",
              "4884           1820\n",
              "4976           1800\n",
              "5382      1847, 48 \n",
              "5385            NaN\n",
              "Name: Date of Publication, dtype: object"
            ]
          },
          "metadata": {},
          "execution_count": 99
        }
      ]
    },
    {
      "cell_type": "code",
      "source": [
        "def clean_title(title):\n",
        "  if title == 'nan':\n",
        "    return 'NaN'\n",
        "  if title[0] == '[':\n",
        "    title = title[1:title.find(']')]\n",
        "  if 'by' in title:\n",
        "    title = title[:title.find('by')]\n",
        "  elif 'By' in title:\n",
        "    title = title[:title.find('By')]\n",
        "  if '[' in title:\n",
        "    title = title[:title.find('[')]\n",
        "  title = title[:-2]\n",
        "  df['Title'] = df['Title'].apply(clean_title)\n",
        "  df.head()"
      ],
      "metadata": {
        "id": "cf3rNCzhmgsn"
      },
      "execution_count": null,
      "outputs": []
    },
    {
      "cell_type": "code",
      "source": [
        "df.head()"
      ],
      "metadata": {
        "colab": {
          "base_uri": "https://localhost:8080/",
          "height": 446
        },
        "id": "iHhM1xEZnxdh",
        "outputId": "4bfa2e2d-8f5c-409e-b34d-65659fb46d13"
      },
      "execution_count": null,
      "outputs": [
        {
          "output_type": "execute_result",
          "data": {
            "text/plain": [
              "                Place of Publication Date of Publication  \\\n",
              "Identifier                                                 \n",
              "206                           London               1879    \n",
              "216         London; Virtue & Yorston                1868   \n",
              "218                           London                1869   \n",
              "472                           London                1851   \n",
              "480                           London                1857   \n",
              "\n",
              "                        Publisher  \\\n",
              "Identifier                          \n",
              "206              S. Tinsley & Co.   \n",
              "216                  Virtue & Co.   \n",
              "218         Bradbury, Evans & Co.   \n",
              "472                 James Darling   \n",
              "480          Wertheim & Macintosh   \n",
              "\n",
              "                                                        Title     Author  \\\n",
              "Identifier                                                                 \n",
              "206                         Walter Forbes. [A novel.] By A. A      A. A.   \n",
              "216         All for Greed. [A novel. The dedication signed...  A., A. A.   \n",
              "218         Love the Avenger. By the author of “All for Gr...  A., A. A.   \n",
              "472         Welsh Sketches, chiefly ecclesiastical, to the...  A., E. S.   \n",
              "480         [The World in which I live, and my place in it...  A., E. S.   \n",
              "\n",
              "                                                   Flickr URL  \n",
              "Identifier                                                     \n",
              "206         http://www.flickr.com/photos/britishlibrary/ta...  \n",
              "216         http://www.flickr.com/photos/britishlibrary/ta...  \n",
              "218         http://www.flickr.com/photos/britishlibrary/ta...  \n",
              "472         http://www.flickr.com/photos/britishlibrary/ta...  \n",
              "480         http://www.flickr.com/photos/britishlibrary/ta...  "
            ],
            "text/html": [
              "\n",
              "  <div id=\"df-27b483fb-b259-4bb7-b74a-a37fb71c4005\" class=\"colab-df-container\">\n",
              "    <div>\n",
              "<style scoped>\n",
              "    .dataframe tbody tr th:only-of-type {\n",
              "        vertical-align: middle;\n",
              "    }\n",
              "\n",
              "    .dataframe tbody tr th {\n",
              "        vertical-align: top;\n",
              "    }\n",
              "\n",
              "    .dataframe thead th {\n",
              "        text-align: right;\n",
              "    }\n",
              "</style>\n",
              "<table border=\"1\" class=\"dataframe\">\n",
              "  <thead>\n",
              "    <tr style=\"text-align: right;\">\n",
              "      <th></th>\n",
              "      <th>Place of Publication</th>\n",
              "      <th>Date of Publication</th>\n",
              "      <th>Publisher</th>\n",
              "      <th>Title</th>\n",
              "      <th>Author</th>\n",
              "      <th>Flickr URL</th>\n",
              "    </tr>\n",
              "    <tr>\n",
              "      <th>Identifier</th>\n",
              "      <th></th>\n",
              "      <th></th>\n",
              "      <th></th>\n",
              "      <th></th>\n",
              "      <th></th>\n",
              "      <th></th>\n",
              "    </tr>\n",
              "  </thead>\n",
              "  <tbody>\n",
              "    <tr>\n",
              "      <th>206</th>\n",
              "      <td>London</td>\n",
              "      <td>1879</td>\n",
              "      <td>S. Tinsley &amp; Co.</td>\n",
              "      <td>Walter Forbes. [A novel.] By A. A</td>\n",
              "      <td>A. A.</td>\n",
              "      <td>http://www.flickr.com/photos/britishlibrary/ta...</td>\n",
              "    </tr>\n",
              "    <tr>\n",
              "      <th>216</th>\n",
              "      <td>London; Virtue &amp; Yorston</td>\n",
              "      <td>1868</td>\n",
              "      <td>Virtue &amp; Co.</td>\n",
              "      <td>All for Greed. [A novel. The dedication signed...</td>\n",
              "      <td>A., A. A.</td>\n",
              "      <td>http://www.flickr.com/photos/britishlibrary/ta...</td>\n",
              "    </tr>\n",
              "    <tr>\n",
              "      <th>218</th>\n",
              "      <td>London</td>\n",
              "      <td>1869</td>\n",
              "      <td>Bradbury, Evans &amp; Co.</td>\n",
              "      <td>Love the Avenger. By the author of “All for Gr...</td>\n",
              "      <td>A., A. A.</td>\n",
              "      <td>http://www.flickr.com/photos/britishlibrary/ta...</td>\n",
              "    </tr>\n",
              "    <tr>\n",
              "      <th>472</th>\n",
              "      <td>London</td>\n",
              "      <td>1851</td>\n",
              "      <td>James Darling</td>\n",
              "      <td>Welsh Sketches, chiefly ecclesiastical, to the...</td>\n",
              "      <td>A., E. S.</td>\n",
              "      <td>http://www.flickr.com/photos/britishlibrary/ta...</td>\n",
              "    </tr>\n",
              "    <tr>\n",
              "      <th>480</th>\n",
              "      <td>London</td>\n",
              "      <td>1857</td>\n",
              "      <td>Wertheim &amp; Macintosh</td>\n",
              "      <td>[The World in which I live, and my place in it...</td>\n",
              "      <td>A., E. S.</td>\n",
              "      <td>http://www.flickr.com/photos/britishlibrary/ta...</td>\n",
              "    </tr>\n",
              "  </tbody>\n",
              "</table>\n",
              "</div>\n",
              "    <div class=\"colab-df-buttons\">\n",
              "\n",
              "  <div class=\"colab-df-container\">\n",
              "    <button class=\"colab-df-convert\" onclick=\"convertToInteractive('df-27b483fb-b259-4bb7-b74a-a37fb71c4005')\"\n",
              "            title=\"Convert this dataframe to an interactive table.\"\n",
              "            style=\"display:none;\">\n",
              "\n",
              "  <svg xmlns=\"http://www.w3.org/2000/svg\" height=\"24px\" viewBox=\"0 -960 960 960\">\n",
              "    <path d=\"M120-120v-720h720v720H120Zm60-500h600v-160H180v160Zm220 220h160v-160H400v160Zm0 220h160v-160H400v160ZM180-400h160v-160H180v160Zm440 0h160v-160H620v160ZM180-180h160v-160H180v160Zm440 0h160v-160H620v160Z\"/>\n",
              "  </svg>\n",
              "    </button>\n",
              "\n",
              "  <style>\n",
              "    .colab-df-container {\n",
              "      display:flex;\n",
              "      gap: 12px;\n",
              "    }\n",
              "\n",
              "    .colab-df-convert {\n",
              "      background-color: #E8F0FE;\n",
              "      border: none;\n",
              "      border-radius: 50%;\n",
              "      cursor: pointer;\n",
              "      display: none;\n",
              "      fill: #1967D2;\n",
              "      height: 32px;\n",
              "      padding: 0 0 0 0;\n",
              "      width: 32px;\n",
              "    }\n",
              "\n",
              "    .colab-df-convert:hover {\n",
              "      background-color: #E2EBFA;\n",
              "      box-shadow: 0px 1px 2px rgba(60, 64, 67, 0.3), 0px 1px 3px 1px rgba(60, 64, 67, 0.15);\n",
              "      fill: #174EA6;\n",
              "    }\n",
              "\n",
              "    .colab-df-buttons div {\n",
              "      margin-bottom: 4px;\n",
              "    }\n",
              "\n",
              "    [theme=dark] .colab-df-convert {\n",
              "      background-color: #3B4455;\n",
              "      fill: #D2E3FC;\n",
              "    }\n",
              "\n",
              "    [theme=dark] .colab-df-convert:hover {\n",
              "      background-color: #434B5C;\n",
              "      box-shadow: 0px 1px 3px 1px rgba(0, 0, 0, 0.15);\n",
              "      filter: drop-shadow(0px 1px 2px rgba(0, 0, 0, 0.3));\n",
              "      fill: #FFFFFF;\n",
              "    }\n",
              "  </style>\n",
              "\n",
              "    <script>\n",
              "      const buttonEl =\n",
              "        document.querySelector('#df-27b483fb-b259-4bb7-b74a-a37fb71c4005 button.colab-df-convert');\n",
              "      buttonEl.style.display =\n",
              "        google.colab.kernel.accessAllowed ? 'block' : 'none';\n",
              "\n",
              "      async function convertToInteractive(key) {\n",
              "        const element = document.querySelector('#df-27b483fb-b259-4bb7-b74a-a37fb71c4005');\n",
              "        const dataTable =\n",
              "          await google.colab.kernel.invokeFunction('convertToInteractive',\n",
              "                                                    [key], {});\n",
              "        if (!dataTable) return;\n",
              "\n",
              "        const docLinkHtml = 'Like what you see? Visit the ' +\n",
              "          '<a target=\"_blank\" href=https://colab.research.google.com/notebooks/data_table.ipynb>data table notebook</a>'\n",
              "          + ' to learn more about interactive tables.';\n",
              "        element.innerHTML = '';\n",
              "        dataTable['output_type'] = 'display_data';\n",
              "        await google.colab.output.renderOutput(dataTable, element);\n",
              "        const docLink = document.createElement('div');\n",
              "        docLink.innerHTML = docLinkHtml;\n",
              "        element.appendChild(docLink);\n",
              "      }\n",
              "    </script>\n",
              "  </div>\n",
              "\n",
              "\n",
              "<div id=\"df-649b3c49-d4fc-4c3f-8520-d3dde60afe2e\">\n",
              "  <button class=\"colab-df-quickchart\" onclick=\"quickchart('df-649b3c49-d4fc-4c3f-8520-d3dde60afe2e')\"\n",
              "            title=\"Suggest charts\"\n",
              "            style=\"display:none;\">\n",
              "\n",
              "<svg xmlns=\"http://www.w3.org/2000/svg\" height=\"24px\"viewBox=\"0 0 24 24\"\n",
              "     width=\"24px\">\n",
              "    <g>\n",
              "        <path d=\"M19 3H5c-1.1 0-2 .9-2 2v14c0 1.1.9 2 2 2h14c1.1 0 2-.9 2-2V5c0-1.1-.9-2-2-2zM9 17H7v-7h2v7zm4 0h-2V7h2v10zm4 0h-2v-4h2v4z\"/>\n",
              "    </g>\n",
              "</svg>\n",
              "  </button>\n",
              "\n",
              "<style>\n",
              "  .colab-df-quickchart {\n",
              "      --bg-color: #E8F0FE;\n",
              "      --fill-color: #1967D2;\n",
              "      --hover-bg-color: #E2EBFA;\n",
              "      --hover-fill-color: #174EA6;\n",
              "      --disabled-fill-color: #AAA;\n",
              "      --disabled-bg-color: #DDD;\n",
              "  }\n",
              "\n",
              "  [theme=dark] .colab-df-quickchart {\n",
              "      --bg-color: #3B4455;\n",
              "      --fill-color: #D2E3FC;\n",
              "      --hover-bg-color: #434B5C;\n",
              "      --hover-fill-color: #FFFFFF;\n",
              "      --disabled-bg-color: #3B4455;\n",
              "      --disabled-fill-color: #666;\n",
              "  }\n",
              "\n",
              "  .colab-df-quickchart {\n",
              "    background-color: var(--bg-color);\n",
              "    border: none;\n",
              "    border-radius: 50%;\n",
              "    cursor: pointer;\n",
              "    display: none;\n",
              "    fill: var(--fill-color);\n",
              "    height: 32px;\n",
              "    padding: 0;\n",
              "    width: 32px;\n",
              "  }\n",
              "\n",
              "  .colab-df-quickchart:hover {\n",
              "    background-color: var(--hover-bg-color);\n",
              "    box-shadow: 0 1px 2px rgba(60, 64, 67, 0.3), 0 1px 3px 1px rgba(60, 64, 67, 0.15);\n",
              "    fill: var(--button-hover-fill-color);\n",
              "  }\n",
              "\n",
              "  .colab-df-quickchart-complete:disabled,\n",
              "  .colab-df-quickchart-complete:disabled:hover {\n",
              "    background-color: var(--disabled-bg-color);\n",
              "    fill: var(--disabled-fill-color);\n",
              "    box-shadow: none;\n",
              "  }\n",
              "\n",
              "  .colab-df-spinner {\n",
              "    border: 2px solid var(--fill-color);\n",
              "    border-color: transparent;\n",
              "    border-bottom-color: var(--fill-color);\n",
              "    animation:\n",
              "      spin 1s steps(1) infinite;\n",
              "  }\n",
              "\n",
              "  @keyframes spin {\n",
              "    0% {\n",
              "      border-color: transparent;\n",
              "      border-bottom-color: var(--fill-color);\n",
              "      border-left-color: var(--fill-color);\n",
              "    }\n",
              "    20% {\n",
              "      border-color: transparent;\n",
              "      border-left-color: var(--fill-color);\n",
              "      border-top-color: var(--fill-color);\n",
              "    }\n",
              "    30% {\n",
              "      border-color: transparent;\n",
              "      border-left-color: var(--fill-color);\n",
              "      border-top-color: var(--fill-color);\n",
              "      border-right-color: var(--fill-color);\n",
              "    }\n",
              "    40% {\n",
              "      border-color: transparent;\n",
              "      border-right-color: var(--fill-color);\n",
              "      border-top-color: var(--fill-color);\n",
              "    }\n",
              "    60% {\n",
              "      border-color: transparent;\n",
              "      border-right-color: var(--fill-color);\n",
              "    }\n",
              "    80% {\n",
              "      border-color: transparent;\n",
              "      border-right-color: var(--fill-color);\n",
              "      border-bottom-color: var(--fill-color);\n",
              "    }\n",
              "    90% {\n",
              "      border-color: transparent;\n",
              "      border-bottom-color: var(--fill-color);\n",
              "    }\n",
              "  }\n",
              "</style>\n",
              "\n",
              "  <script>\n",
              "    async function quickchart(key) {\n",
              "      const quickchartButtonEl =\n",
              "        document.querySelector('#' + key + ' button');\n",
              "      quickchartButtonEl.disabled = true;  // To prevent multiple clicks.\n",
              "      quickchartButtonEl.classList.add('colab-df-spinner');\n",
              "      try {\n",
              "        const charts = await google.colab.kernel.invokeFunction(\n",
              "            'suggestCharts', [key], {});\n",
              "      } catch (error) {\n",
              "        console.error('Error during call to suggestCharts:', error);\n",
              "      }\n",
              "      quickchartButtonEl.classList.remove('colab-df-spinner');\n",
              "      quickchartButtonEl.classList.add('colab-df-quickchart-complete');\n",
              "    }\n",
              "    (() => {\n",
              "      let quickchartButtonEl =\n",
              "        document.querySelector('#df-649b3c49-d4fc-4c3f-8520-d3dde60afe2e button');\n",
              "      quickchartButtonEl.style.display =\n",
              "        google.colab.kernel.accessAllowed ? 'block' : 'none';\n",
              "    })();\n",
              "  </script>\n",
              "</div>\n",
              "\n",
              "    </div>\n",
              "  </div>\n"
            ],
            "application/vnd.google.colaboratory.intrinsic+json": {
              "type": "dataframe",
              "variable_name": "df",
              "summary": "{\n  \"name\": \"df\",\n  \"rows\": 8287,\n  \"fields\": [\n    {\n      \"column\": \"Place of Publication\",\n      \"properties\": {\n        \"dtype\": \"category\",\n        \"samples\": [\n          \"Springfield, O\",\n          \"Warwick, 1877\",\n          \"Sheffield\"\n        ],\n        \"num_unique_values\": 1441,\n        \"semantic_type\": \"\",\n        \"description\": \"\"\n      }\n    },\n    {\n      \"column\": \"Date of Publication\",\n      \"properties\": {\n        \"dtype\": \"category\",\n        \"samples\": [\n          \"1686\",\n          \"1687\",\n          \"1772\"\n        ],\n        \"num_unique_values\": 824,\n        \"semantic_type\": \"\",\n        \"description\": \"\"\n      }\n    },\n    {\n      \"column\": \"Publisher\",\n      \"properties\": {\n        \"dtype\": \"category\",\n        \"samples\": [\n          \"J. G. Gregory\",\n          \"T. Hurst, E. Chance & Co.\",\n          \"A. J. Hall & Co.\"\n        ],\n        \"num_unique_values\": 1989,\n        \"semantic_type\": \"\",\n        \"description\": \"\"\n      }\n    },\n    {\n      \"column\": \"Title\",\n      \"properties\": {\n        \"dtype\": \"string\",\n        \"samples\": [\n          \"A Daughter of the Druids. [A novel.] By A. K. H[opkins]\",\n          \"Relations de la Normandie et de la Bretagne avec les i\\u0302les de la Manche pendant l'e\\u0301migration, d'apre\\u0300s des documents recueillis par ... S. E. Hoskins\",\n          \"A History, topographical, arch\\u00e6ological, genealogical, and biographical, of the parishes of West and East Bradenham, with those of Necton and Holme Hale, in the County of Norfolk ... With an introduction by ... A. Jessopp ... With illustrations\"\n        ],\n        \"num_unique_values\": 8210,\n        \"semantic_type\": \"\",\n        \"description\": \"\"\n      }\n    },\n    {\n      \"column\": \"Author\",\n      \"properties\": {\n        \"dtype\": \"string\",\n        \"samples\": [\n          \"PROCTER, Adelaide Anne.\",\n          \"MURAV'EV, Nikolai Nikolaevich - Count, General\",\n          \"Tasso, Torquato\"\n        ],\n        \"num_unique_values\": 5005,\n        \"semantic_type\": \"\",\n        \"description\": \"\"\n      }\n    },\n    {\n      \"column\": \"Flickr URL\",\n      \"properties\": {\n        \"dtype\": \"string\",\n        \"samples\": [\n          \"http://www.flickr.com/photos/britishlibrary/tags/sysnum002202091\",\n          \"http://www.flickr.com/photos/britishlibrary/tags/sysnum002778816\",\n          \"http://www.flickr.com/photos/britishlibrary/tags/sysnum004002177\"\n        ],\n        \"num_unique_values\": 8287,\n        \"semantic_type\": \"\",\n        \"description\": \"\"\n      }\n    }\n  ]\n}"
            }
          },
          "metadata": {},
          "execution_count": 103
        }
      ]
    },
    {
      "cell_type": "code",
      "source": [],
      "metadata": {
        "id": "z2SEUMaBn2bv"
      },
      "execution_count": null,
      "outputs": []
    }
  ]
}